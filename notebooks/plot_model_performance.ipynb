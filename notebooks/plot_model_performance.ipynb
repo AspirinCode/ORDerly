{
 "cells": [
  {
   "attachments": {},
   "cell_type": "markdown",
   "metadata": {},
   "source": [
    "# Plot model performance"
   ]
  },
  {
   "attachments": {},
   "cell_type": "markdown",
   "metadata": {},
   "source": [
    "## Scaling behaviour"
   ]
  },
  {
   "cell_type": "code",
   "execution_count": null,
   "metadata": {},
   "outputs": [],
   "source": [
    "# Data\n",
    "x_axis = [0.2, 0.4, 0.6, 0.8, 1.0]\n",
    "y_axis = [0.2, 0.4, 0.6, 0.8, 1.0]\n",
    "no_trust_with_map = [0.0, 0.0, 0.0, 0.0, 0.0]\n",
    "no_trust_no_map = [0.0, 0.0, 0.0, 0.0, 0.0]\n",
    "trust_no_map = [0.0, 0.0, 0.0, 0.0, 0.0]\n",
    "trust_with_map = [0.0, 0.0, 0.0, 0.0, 0.0]\n",
    "\n",
    "\n"
   ]
  },
  {
   "cell_type": "code",
   "execution_count": 9,
   "metadata": {},
   "outputs": [],
   "source": [
    "import json\n",
    "def extract_avg_acc_from_json(filename,top_k=3):\n",
    "    assert top_k in [1,3,5]\n",
    "    if top_k == 1:\n",
    "        appendix = '_acc'\n",
    "    elif top_k == 3:\n",
    "        appendix = '_top3'\n",
    "    elif top_k == 5:\n",
    "        appendix = '_top5'\n",
    "    with open(filename) as f:\n",
    "        data = json.load(f)\n",
    "    accuracy = 1\n",
    "    for i in range(1,6):\n",
    "        accuracy *=data[f'mol{i}{appendix}']\n",
    "    return accuracy    \n",
    "    "
   ]
  },
  {
   "cell_type": "code",
   "execution_count": 10,
   "metadata": {},
   "outputs": [
    {
     "data": {
      "text/plain": [
       "0.3868867751372443"
      ]
     },
     "execution_count": 10,
     "metadata": {},
     "output_type": "execute_result"
    }
   ],
   "source": [
    "extract_avg_acc_from_json('/Users/dsw46/Projects_local/gen_orderly_data/ORDerly/models/no_trust_with_map/test_metrics.json')"
   ]
  },
  {
   "cell_type": "code",
   "execution_count": 11,
   "metadata": {},
   "outputs": [
    {
     "data": {
      "text/plain": [
       "0.2649152956699739"
      ]
     },
     "execution_count": 11,
     "metadata": {},
     "output_type": "execute_result"
    }
   ],
   "source": [
    "extract_avg_acc_from_json('/Users/dsw46/Projects_local/gen_orderly_data/ORDerly/models/no_trust_with_map_20/test_metrics.json')"
   ]
  },
  {
   "cell_type": "code",
   "execution_count": 12,
   "metadata": {},
   "outputs": [
    {
     "data": {
      "text/plain": [
       "0.8160219003576087"
      ]
     },
     "execution_count": 12,
     "metadata": {},
     "output_type": "execute_result"
    }
   ],
   "source": [
    "extract_avg_acc_from_json('/Users/dsw46/Projects_local/gen_orderly_data/ORDerly/models/with_trust_no_map/test_metrics.json')"
   ]
  },
  {
   "cell_type": "code",
   "execution_count": 13,
   "metadata": {},
   "outputs": [
    {
     "data": {
      "text/plain": [
       "0.6994980836568517"
      ]
     },
     "execution_count": 13,
     "metadata": {},
     "output_type": "execute_result"
    }
   ],
   "source": [
    "extract_avg_acc_from_json('/Users/dsw46/Projects_local/gen_orderly_data/ORDerly/models/with_trust_no_map_20/test_metrics.json')"
   ]
  },
  {
   "cell_type": "code",
   "execution_count": null,
   "metadata": {},
   "outputs": [],
   "source": []
  },
  {
   "cell_type": "code",
   "execution_count": 4,
   "metadata": {},
   "outputs": [],
   "source": [
    "filename = '/Users/dsw46/Projects_local/gen_orderly_data/ORDerly/models/no_trust_with_map/test_metrics.json'\n",
    "with open(filename) as f:\n",
    "        data = json.load(f)"
   ]
  },
  {
   "cell_type": "code",
   "execution_count": 7,
   "metadata": {},
   "outputs": [],
   "source": [
    "appendix = '_top3'\n",
    "accuracy = 1\n",
    "for i in range(1,6):\n",
    "    accuracy *=data[f'mol{i}{appendix}']\n",
    "    "
   ]
  },
  {
   "cell_type": "code",
   "execution_count": 8,
   "metadata": {},
   "outputs": [
    {
     "data": {
      "text/plain": [
       "0.3868867751372443"
      ]
     },
     "execution_count": 8,
     "metadata": {},
     "output_type": "execute_result"
    }
   ],
   "source": [
    "accuracy"
   ]
  }
 ],
 "metadata": {
  "kernelspec": {
   "display_name": "chemistry",
   "language": "python",
   "name": "chemistry"
  },
  "language_info": {
   "codemirror_mode": {
    "name": "ipython",
    "version": 3
   },
   "file_extension": ".py",
   "mimetype": "text/x-python",
   "name": "python",
   "nbconvert_exporter": "python",
   "pygments_lexer": "ipython3",
   "version": "3.10.8"
  },
  "orig_nbformat": 4
 },
 "nbformat": 4,
 "nbformat_minor": 2
}
